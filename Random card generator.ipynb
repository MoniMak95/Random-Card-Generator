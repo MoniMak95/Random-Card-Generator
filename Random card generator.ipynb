{
 "cells": [
  {
   "cell_type": "code",
   "execution_count": 3,
   "id": "be19dfa1",
   "metadata": {},
   "outputs": [
    {
     "name": "stdout",
     "output_type": "stream",
     "text": [
      "the [Diamond] of [6]\n"
     ]
    }
   ],
   "source": [
    "import random\n",
    "\n",
    "Cards = [\"Spades\",\"Clubs\",\"Diamond\",\"Hearts\"]\n",
    "Ranks=[1,2,3,4,5,6,7,8,9,10,\"Jack\",\"Queen\",\"King\",\"Ace\"]\n",
    "\n",
    "def rand_card():\n",
    "    random_cards=random.choice(Cards)\n",
    "    random_ranks=random.choice(Ranks)\n",
    "    \n",
    "    print(f\"the [{random_cards}] of [{random_ranks}]\" )\n",
    "    \n",
    "rand_card()\n"
   ]
  },
  {
   "cell_type": "code",
   "execution_count": null,
   "id": "4f096c9d",
   "metadata": {},
   "outputs": [],
   "source": []
  }
 ],
 "metadata": {
  "kernelspec": {
   "display_name": "Python 3",
   "language": "python",
   "name": "python3"
  },
  "language_info": {
   "codemirror_mode": {
    "name": "ipython",
    "version": 3
   },
   "file_extension": ".py",
   "mimetype": "text/x-python",
   "name": "python",
   "nbconvert_exporter": "python",
   "pygments_lexer": "ipython3",
   "version": "3.8.8"
  }
 },
 "nbformat": 4,
 "nbformat_minor": 5
}
